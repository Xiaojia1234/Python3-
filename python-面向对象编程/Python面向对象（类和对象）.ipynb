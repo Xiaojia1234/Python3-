{
 "cells": [
  {
   "cell_type": "markdown",
   "metadata": {},
   "source": [
    "## Python面向对象（类和对象）"
   ]
  },
  {
   "cell_type": "markdown",
   "metadata": {},
   "source": [
    "自从存在以来，Python一直是面向对象的语言。 因此，创建和使用类和对象是非常容易的。 本章将学习如何使用Python面向对象编程。\n",
    "\n",
    "如果您以前没有面向对象(OO)编程的经验，可能需要查阅介绍面向对象(OO)编程课程或至少学习一些有关教程，以便掌握基本概念。下面是面向对象编程(OOP)的一个小介绍，以帮助您快速入门学习 -"
   ]
  },
  {
   "cell_type": "markdown",
   "metadata": {},
   "source": [
    "### OOP术语概述 \n",
    "* 类 - 用于定义表示用户定义对象的一组属性的原型。属性是通过点符号访问的数据成员(类变量和实例变量)和方法。\n",
    "* 类变量 - 由类的所有实例共享的变量。 类变量在类中定义，但在类的任何方法之外。 类变量不像实例变量那样频繁使用。\n",
    "* 数据成员 - 保存与类及其对象相关联的数据的类变量或实例变量。\n",
    "* 函数重载 - 将多个行为分配给特定函数。 执行的操作因涉及的对象或参数的类型而异。\n",
    "* 实例变量 - 在方法中定义并仅属于类的当前实例的变量。\n",
    "* 继承 - 将类的特征传递给从其派生的其他类。\n",
    "* 实例 - 某个类的单个对象。 例如，对象obj属于Circle类，它是Circle类的实例。\n",
    "* 实例化 - 创建类的实例。\n",
    "* 方法 - 在类定义中定义的一种特殊类型的函数。\n",
    "* 对象 - 由其类定义的数据结构的唯一实例。对象包括数据成员(类变量和实例变量)和方法。\n",
    "* 运算符重载 - 将多个函数分配给特定的运算符。"
   ]
  },
  {
   "cell_type": "markdown",
   "metadata": {},
   "source": [
    "## 1.创建类"
   ]
  },
  {
   "cell_type": "raw",
   "metadata": {},
   "source": [
    "class语句创建一个新的类定义。 类的名称紧跟在class关键字之后，在类的名称之后紧跟冒号，如下 "
   ]
  },
  {
   "cell_type": "raw",
   "metadata": {},
   "source": [
    "class ClassName:\n",
    "    'Optional class documentation string'\n",
    "    class_suite"
   ]
  },
  {
   "cell_type": "raw",
   "metadata": {},
   "source": [
    "该类有一个文档字符串，可以通过ClassName.__doc__访问。\n",
    "\n",
    "class_suite由定义类成员，数据属性和函数的所有组件语句组成。"
   ]
  },
  {
   "cell_type": "markdown",
   "metadata": {},
   "source": [
    "示例:"
   ]
  },
  {
   "cell_type": "code",
   "execution_count": 6,
   "metadata": {},
   "outputs": [],
   "source": [
    "class Employee:\n",
    "    'Common base class for all employees'\n",
    "    empCount = 0\n",
    "    \n",
    "    def __init__(self,name,salary):\n",
    "        self.name = name\n",
    "        self.salary = salary\n",
    "        Employee.empCount += 1\n",
    "    \n",
    "    def displayCount(self):\n",
    "        print(\"Total Employee %d\" % Employee.empCount)\n",
    "    \n",
    "    def displayEmployee(self):\n",
    "        print(\"Name:\",self.name,\",Salary:\",self.salary)"
   ]
  },
  {
   "cell_type": "raw",
   "metadata": {},
   "source": [
    "变量empCount是一个类变量，其值在此类中的所有实例之间共享。着可以从类或类外的Employee.empCount访问。\n",
    "\n",
    "第一个方法__init__()是一种特殊的方法，当创建此类的新实例时，该方法称为python构造函数或初始化方法。\n",
    "\n",
    "声明其他类方法，如正常函数，但每一个方法的第一个参数是self。python将self参数添加到列表中；调用方法时不需要包含它。"
   ]
  },
  {
   "cell_type": "markdown",
   "metadata": {},
   "source": [
    "## 2.创建实例对象"
   ]
  },
  {
   "cell_type": "raw",
   "metadata": {},
   "source": [
    "要创建类的实例，可以使用类名调用该类，并传递其__init__方法接受的任何参数。"
   ]
  },
  {
   "cell_type": "code",
   "execution_count": 7,
   "metadata": {},
   "outputs": [],
   "source": [
    "## This would create first object of Employee class\n",
    "emp1 = Employee(\"Maxsu\",2000)\n",
    "## This would create second object of Employee class\n",
    "emp2 = Employee(\"kobe\",5000)"
   ]
  },
  {
   "cell_type": "markdown",
   "metadata": {},
   "source": [
    "## 3.访问属性"
   ]
  },
  {
   "cell_type": "markdown",
   "metadata": {},
   "source": [
    "可以使用带有对象的点( .)运算符来访问对象的属性。类变量将使用类名访问如下："
   ]
  },
  {
   "cell_type": "code",
   "execution_count": 8,
   "metadata": {},
   "outputs": [
    {
     "name": "stdout",
     "output_type": "stream",
     "text": [
      "Name: Maxsu ,Salary: 2000\n",
      "Name: kobe ,Salary: 5000\n",
      "Total Employee 2\n"
     ]
    }
   ],
   "source": [
    "emp1.displayEmployee()\n",
    "emp2.displayEmployee()\n",
    "print(\"Total Employee %d\" % Employee.empCount)"
   ]
  },
  {
   "cell_type": "markdown",
   "metadata": {},
   "source": [
    "现在把所有的概念放在一起"
   ]
  },
  {
   "cell_type": "code",
   "execution_count": 13,
   "metadata": {},
   "outputs": [
    {
     "name": "stdout",
     "output_type": "stream",
     "text": [
      "Name :  Maxsu , Salary:  2000\n",
      "Name :  Kobe , Salary:  5000\n",
      "Total Employee 2\n"
     ]
    }
   ],
   "source": [
    "class Employee:\n",
    "    'Common base class for all employees'\n",
    "    empCount = 0\n",
    "    \n",
    "    def __init__(self,name,salary):\n",
    "        self.name = name\n",
    "        self.salary = salary\n",
    "        Employee.empCount +=1\n",
    "    \n",
    "    def displayCount(self):\n",
    "        print(\"Total Employee %d\" % Employee.empCount)\n",
    "    \n",
    "    def displayEmployee(self):\n",
    "        print (\"Name : \", self.name,  \", Salary: \", self.salary)\n",
    "\n",
    "#This would create first object of Employee class\"\n",
    "emp1 = Employee(\"Maxsu\", 2000)\n",
    "#This would create second object of Employee class\"\n",
    "emp2 = Employee(\"Kobe\", 5000)\n",
    "emp1.displayEmployee()\n",
    "emp2.displayEmployee()\n",
    "print (\"Total Employee %d\" % Employee.empCount)"
   ]
  },
  {
   "cell_type": "markdown",
   "metadata": {},
   "source": [
    "当执行上述代码时，会产生结果如上。"
   ]
  },
  {
   "cell_type": "markdown",
   "metadata": {},
   "source": [
    "可以随时添加，删除或修改类和对象的属性："
   ]
  },
  {
   "cell_type": "code",
   "execution_count": 14,
   "metadata": {},
   "outputs": [],
   "source": [
    "emp1.salary = 7000 # Add an 'salary' attribute.\n",
    "emp1.name = 'xyz' # Modify 'age' attribute.\n",
    "# del emp1.salary # Delete 'age' attribute.\n"
   ]
  },
  {
   "cell_type": "markdown",
   "metadata": {},
   "source": [
    "如果不是使用普通语句访问属性，可以使用以下函数：\n",
    "* getattr(obj，name [，default]) - 访问对象的属性。\n",
    "* hasattr(obj，name) - 检查属性是否存在。\n",
    "* setattr(obj，name，value) - 设置一个属性。如果属性不存在，那么它将被创建。\n",
    "* delattr(obj，name) - 删除一个属性。"
   ]
  },
  {
   "cell_type": "markdown",
   "metadata": {},
   "source": [
    "下面是一此使用示例"
   ]
  },
  {
   "cell_type": "code",
   "execution_count": 19,
   "metadata": {},
   "outputs": [
    {
     "data": {
      "text/plain": [
       "False"
      ]
     },
     "execution_count": 19,
     "metadata": {},
     "output_type": "execute_result"
    }
   ],
   "source": [
    "hasattr(emp1, 'salary')    # Returns true if 'salary' attribute exists"
   ]
  },
  {
   "cell_type": "code",
   "execution_count": 16,
   "metadata": {},
   "outputs": [
    {
     "data": {
      "text/plain": [
       "7000"
      ]
     },
     "execution_count": 16,
     "metadata": {},
     "output_type": "execute_result"
    }
   ],
   "source": [
    "getattr(emp1, 'salary')    # Returns value of 'salary' attribute"
   ]
  },
  {
   "cell_type": "code",
   "execution_count": 17,
   "metadata": {},
   "outputs": [],
   "source": [
    "setattr(emp1, 'salary', 7000) # Set attribute 'salary' at 7000"
   ]
  },
  {
   "cell_type": "code",
   "execution_count": 18,
   "metadata": {},
   "outputs": [],
   "source": [
    "delattr(emp1, 'salary')    # Delete attribute 'salary'"
   ]
  },
  {
   "cell_type": "markdown",
   "metadata": {},
   "source": [
    "## 4.内置类属性"
   ]
  },
  {
   "cell_type": "markdown",
   "metadata": {},
   "source": [
    "每个Python类保持以下内置属性，并且可以像任何其他属性一样使用点运算符访问它们："
   ]
  },
  {
   "cell_type": "raw",
   "metadata": {},
   "source": [
    "__dict__ - 包含该类的命名空间的字典。\n",
    "__doc__ - 类文档字符串或无，如果未定义。\n",
    "__name__ - 类名。\n",
    "__module__ - 定义类的模块名称。此属性在交互模式下的值为“main”。\n",
    "__bases__ - 一个包含基类的空元组，按照它们在基类列表中出现的顺序。"
   ]
  },
  {
   "cell_type": "markdown",
   "metadata": {},
   "source": [
    "对于上述类，尝试访问所有这些属性"
   ]
  },
  {
   "cell_type": "code",
   "execution_count": 21,
   "metadata": {},
   "outputs": [
    {
     "name": "stdout",
     "output_type": "stream",
     "text": [
      "Employee.__doc__: Common base class for all employees\n",
      "Employee.__name__: Employee\n",
      "Employee.__module__: __main__\n",
      "Employee.__bases__: (<class 'object'>,)\n",
      "Employee.__dict__: {'__module__': '__main__', '__doc__': 'Common base class for all employees', 'empCount': 2, '__init__': <function Employee.__init__ at 0x0000023F8F0C0BF8>, 'displayCount': <function Employee.displayCount at 0x0000023F8F0C0EA0>, 'displayEmployee': <function Employee.displayEmployee at 0x0000023F8F0C0F28>, '__dict__': <attribute '__dict__' of 'Employee' objects>, '__weakref__': <attribute '__weakref__' of 'Employee' objects>}\n"
     ]
    }
   ],
   "source": [
    "class Employee:\n",
    "    'Common base class for all employees'\n",
    "    empCount = 0\n",
    "    \n",
    "    def __init__(self, name, salary):\n",
    "        self.name = name\n",
    "        self.salary = salary\n",
    "        Employee.empCount += 1\n",
    "    \n",
    "    def displayCount(self):\n",
    "        print (\"Total Employee %d\" % Employee.empCount)\n",
    "    \n",
    "    def displayEmployee(self):\n",
    "        print (\"Name : \", self.name,  \", Salary: \", self.salary)\n",
    "        \n",
    "emp1 = Employee(\"Maxsu\", 2000)\n",
    "emp2 = Employee(\"Bryant\", 5000)\n",
    "print(\"Employee.__doc__:\",Employee.__doc__)\n",
    "print(\"Employee.__name__:\",Employee.__name__)\n",
    "print(\"Employee.__module__:\",Employee.__module__)\n",
    "print(\"Employee.__bases__:\",Employee.__bases__)\n",
    "print(\"Employee.__dict__:\",Employee.__dict__)"
   ]
  },
  {
   "cell_type": "markdown",
   "metadata": {},
   "source": [
    "## 5.销毁对象（垃圾收集）"
   ]
  },
  {
   "cell_type": "markdown",
   "metadata": {},
   "source": [
    "Python自动删除不需要的对象(内置类型或类实例)以释放内存空间。 Python定期回收不再使用的内存块的过程称为垃圾收集。"
   ]
  },
  {
   "cell_type": "markdown",
   "metadata": {},
   "source": [
    "Python的垃圾收集器在程序执行期间运行，当对象的引用计数达到零时触发。 对象的引用计数随着指向它的别名数量而变化。"
   ]
  },
  {
   "cell_type": "markdown",
   "metadata": {},
   "source": [
    "当对象的引用计数被分配一个新名称或放置在容器(列表，元组或字典)中时，它的引用计数会增加。 当用del删除对象的引用计数时，引用计数减少，其引用被重新分配，或者其引用超出范围。 当对象的引用计数达到零时，Python会自动收集它。"
   ]
  },
  {
   "cell_type": "code",
   "execution_count": 23,
   "metadata": {},
   "outputs": [],
   "source": [
    "a = 40      # Create object <40>\n",
    "b = a       # Increase ref. count  of <40> \n",
    "c = [b]     # Increase ref. count  of <40> \n",
    "\n",
    "del a       # Decrease ref. count  of <40>\n",
    "b = 100     # Decrease ref. count  of <40> \n",
    "c[0] = -1   # Decrease ref. count  of <40>"
   ]
  },
  {
   "cell_type": "raw",
   "metadata": {},
   "source": [
    "通常情况下，垃圾回收器会销毁孤立的实例并回收其空间。 但是，类可以实现调用析构函数的特殊方法__del__()，该方法在实例即将被销毁时被调用。 此方法可能用于清理实例使用的任何非内存资源。"
   ]
  },
  {
   "cell_type": "markdown",
   "metadata": {},
   "source": [
    "示例"
   ]
  },
  {
   "cell_type": "raw",
   "metadata": {},
   "source": [
    "这个__del__()析构函数打印要被销毁的实例的类名"
   ]
  },
  {
   "cell_type": "code",
   "execution_count": 24,
   "metadata": {},
   "outputs": [
    {
     "name": "stdout",
     "output_type": "stream",
     "text": [
      "2472006374624 2472006374624 2472006374624\n",
      "Point destroyed\n"
     ]
    }
   ],
   "source": [
    "class Point:\n",
    "    \n",
    "    def __init__( self, x=0, y=0):\n",
    "        self.y = y\n",
    "        \n",
    "    def __del__(self):\n",
    "        class_name = self.__class__.__name__\n",
    "        print (class_name, \"destroyed\")\n",
    "\n",
    "pt1 = Point()\n",
    "pt2 = pt1\n",
    "pt3 = pt1\n",
    "print(id(pt1),id(pt2),id(pt3)); # prints the ids of the objects\n",
    "\n",
    "del pt1\n",
    "del pt2\n",
    "del pt3"
   ]
  },
  {
   "cell_type": "markdown",
   "metadata": {},
   "source": [
    "### 注意：\n",
    "理想情况下，应该在单独的文件中定义类，然后使用import语句将其导入主程序文件。"
   ]
  },
  {
   "cell_type": "markdown",
   "metadata": {},
   "source": [
    "在上面的例子中，假定Point类的定义包含在point.py中，并且其中没有其他可执行代码。"
   ]
  },
  {
   "cell_type": "raw",
   "metadata": {},
   "source": [
    "import point\n",
    "p1 = point.Point()"
   ]
  },
  {
   "cell_type": "markdown",
   "metadata": {},
   "source": [
    "## 6. 类继承"
   ]
  },
  {
   "cell_type": "markdown",
   "metadata": {},
   "source": [
    "使用类继承不用从头开始构建代码，可以通过在新类名后面的括号中列出父类来从一个预先存在的类派生它来创建一个类。\n",
    "\n",
    "子类继承其父类的属性，可以像子类中一样定义和使用它们。子类也可以从父类代替代数据成员和方法"
   ]
  },
  {
   "cell_type": "markdown",
   "metadata": {},
   "source": [
    "### 语法"
   ]
  },
  {
   "cell_type": "markdown",
   "metadata": {},
   "source": [
    "派生类被声明为很像它们的父类; 然而，继承的基类的列表在类名之后给出"
   ]
  },
  {
   "cell_type": "raw",
   "metadata": {},
   "source": [
    "class SubClassName (ParentClass1[, ParentClass2, ...]):\n",
    "    'Optional class documentation string'\n",
    "    class_suite"
   ]
  },
  {
   "cell_type": "markdown",
   "metadata": {},
   "source": [
    "示例："
   ]
  },
  {
   "cell_type": "code",
   "execution_count": 29,
   "metadata": {},
   "outputs": [
    {
     "name": "stdout",
     "output_type": "stream",
     "text": [
      "Calling child constructor\n",
      "Calling child method\n",
      "Calling parent method\n",
      "Parent attribute : 200\n"
     ]
    }
   ],
   "source": [
    "class Parent:\n",
    "    parentAttr = 100\n",
    "    \n",
    "    def __init__(self):\n",
    "        print(\"Calling parent constructor\")\n",
    "    \n",
    "    def parentMethod(self):\n",
    "        print(\"Calling parent method\")\n",
    "    \n",
    "    def setAttr(self,attr):\n",
    "        Parent.parentAttr = attr\n",
    "    \n",
    "    def getAttr(self):\n",
    "        print(\"Parent attribute :\",Parent.parentAttr)\n",
    "\n",
    "class Child(Parent): # define child class\n",
    "    def __init__(self):\n",
    "        print(\"Calling child constructor\")\n",
    "    \n",
    "    def childMethod(self):\n",
    "        print(\"Calling child method\")\n",
    "\n",
    "c = Child() # indtance of child\n",
    "c.childMethod() # child calls its method\n",
    "c.parentMethod()     # calls parent's method\n",
    "c.setAttr(200)       # again call parent's method\n",
    "c.getAttr()          # again call parent's method"
   ]
  },
  {
   "cell_type": "markdown",
   "metadata": {},
   "source": [
    "以类似的方式，可以从多个父类来构建一个新的类，如下所示"
   ]
  },
  {
   "cell_type": "raw",
   "metadata": {},
   "source": [
    "class A:        # define your class A\n",
    ".....\n",
    "\n",
    "class B:         # define your calss B\n",
    ".....\n",
    "\n",
    "class C(A, B):   # subclass of A and B\n",
    ".....\n"
   ]
  },
  {
   "cell_type": "markdown",
   "metadata": {},
   "source": [
    "可以使用issubclass()或isinstance()函数来检查两个类和实例之间的关系。\n",
    "\n",
    "* issubclass(sub，sup)布尔函数如果给定的子类sub确实是超类sup的子类返回True。\n",
    "* isinstance(obj，Class)布尔函数如果obj是类Class的一个实例，或者是类的一个子类的实例则返回True。"
   ]
  },
  {
   "cell_type": "markdown",
   "metadata": {},
   "source": [
    "### 重载方法"
   ]
  },
  {
   "cell_type": "markdown",
   "metadata": {},
   "source": [
    "可以随时重载父类的方法。 重载父方法的一个原因是：您可能希望在子类中使用特殊或不同的方法功能。"
   ]
  },
  {
   "cell_type": "markdown",
   "metadata": {},
   "source": [
    "示例"
   ]
  },
  {
   "cell_type": "code",
   "execution_count": 31,
   "metadata": {},
   "outputs": [
    {
     "name": "stdout",
     "output_type": "stream",
     "text": [
      "Calling child method\n"
     ]
    }
   ],
   "source": [
    "class Parent:        # define parent class\n",
    "    def myMethod(self):\n",
    "        print ('Calling parent method')\n",
    "\n",
    "class Child(Parent): # define child class\n",
    "    def myMethod(self):\n",
    "        print ('Calling child method')\n",
    "\n",
    "c = Child() # instance of child\n",
    "c.myMethod() # child calls overridden method"
   ]
  },
  {
   "cell_type": "markdown",
   "metadata": {},
   "source": [
    "### 基本重载方法"
   ]
  },
  {
   "cell_type": "markdown",
   "metadata": {},
   "source": [
    "下表列出了可以在自己的类中覆盖的一些通用方法"
   ]
  },
  {
   "cell_type": "raw",
   "metadata": {},
   "source": [
    "编号  \t方法\t                  描述\t              调用示例\n",
    "1\t __init__ ( self [,args...] )\t构造函数(带任意可选参数)\tobj = className(args)\n",
    "2\t __del__( self )\t           析构函数，删除一个对象\t   del obj\n",
    "3\t __repr__( self )\t         可评估求值的字符串表示\t repr(obj)\n",
    "4\t __str__( self )\t            可打印的字符串表示\t     str(obj)\n",
    "5\t __cmp__ ( self, x )\t         对象比较\t            cmp(obj, x)"
   ]
  },
  {
   "cell_type": "markdown",
   "metadata": {},
   "source": [
    "## 7.重载运算符"
   ]
  },
  {
   "cell_type": "markdown",
   "metadata": {},
   "source": [
    "假设已经创建了一个Vector类来表示二维向量。当使用加号(+)运算符执行运算时，它们会发生什么？ 很可能Python理解不了你想要做什么。\n",
    "\n",
    "但是，可以在类中定义__add__方法来执行向量加法，然后将按照期望行为那样执行加法运算"
   ]
  },
  {
   "cell_type": "markdown",
   "metadata": {},
   "source": [
    "示例"
   ]
  },
  {
   "cell_type": "code",
   "execution_count": 33,
   "metadata": {},
   "outputs": [
    {
     "name": "stdout",
     "output_type": "stream",
     "text": [
      "Vector (7,8)\n"
     ]
    }
   ],
   "source": [
    "class Vector:\n",
    "    def __init__(self,a,b):\n",
    "        self.a = a\n",
    "        self.b = b\n",
    "    \n",
    "    def __str__(self):\n",
    "        return \"Vector (%d,%d)\"%(self.a,self.b)\n",
    "    \n",
    "    def __add__(self,other):\n",
    "        return Vector(self.a+other.a,self.b+other.b)\n",
    "v1 = Vector(2,10)\n",
    "v2 = Vector(5,-2)\n",
    "print(v1+v2)"
   ]
  },
  {
   "cell_type": "markdown",
   "metadata": {},
   "source": [
    "## 8.数据隐藏"
   ]
  },
  {
   "cell_type": "markdown",
   "metadata": {},
   "source": [
    "对象的属性在类定义之外可能或不可见。需要使用双下划线前缀命名属性，然后这些属性将不会直接对外部可见。"
   ]
  },
  {
   "cell_type": "markdown",
   "metadata": {},
   "source": [
    "示例"
   ]
  },
  {
   "cell_type": "code",
   "execution_count": 34,
   "metadata": {},
   "outputs": [
    {
     "name": "stdout",
     "output_type": "stream",
     "text": [
      "1\n",
      "2\n",
      "2\n"
     ]
    }
   ],
   "source": [
    "class JustCounter:\n",
    "    _secretCount = 0\n",
    "    \n",
    "    def count(self):\n",
    "        self._secretCount += 1\n",
    "        print(self._secretCount)\n",
    "\n",
    "counter = JustCounter()\n",
    "counter.count()\n",
    "counter.count()\n",
    "print(counter._secretCount)"
   ]
  },
  {
   "cell_type": "code",
   "execution_count": null,
   "metadata": {},
   "outputs": [],
   "source": []
  },
  {
   "cell_type": "code",
   "execution_count": null,
   "metadata": {},
   "outputs": [],
   "source": []
  },
  {
   "cell_type": "code",
   "execution_count": null,
   "metadata": {},
   "outputs": [],
   "source": []
  },
  {
   "cell_type": "code",
   "execution_count": null,
   "metadata": {},
   "outputs": [],
   "source": []
  },
  {
   "cell_type": "code",
   "execution_count": null,
   "metadata": {},
   "outputs": [],
   "source": []
  },
  {
   "cell_type": "code",
   "execution_count": null,
   "metadata": {},
   "outputs": [],
   "source": []
  },
  {
   "cell_type": "code",
   "execution_count": null,
   "metadata": {},
   "outputs": [],
   "source": []
  },
  {
   "cell_type": "code",
   "execution_count": null,
   "metadata": {},
   "outputs": [],
   "source": []
  },
  {
   "cell_type": "code",
   "execution_count": null,
   "metadata": {},
   "outputs": [],
   "source": []
  },
  {
   "cell_type": "code",
   "execution_count": null,
   "metadata": {},
   "outputs": [],
   "source": []
  },
  {
   "cell_type": "code",
   "execution_count": null,
   "metadata": {},
   "outputs": [],
   "source": []
  }
 ],
 "metadata": {
  "kernelspec": {
   "display_name": "Python 3",
   "language": "python",
   "name": "python3"
  },
  "language_info": {
   "codemirror_mode": {
    "name": "ipython",
    "version": 3
   },
   "file_extension": ".py",
   "mimetype": "text/x-python",
   "name": "python",
   "nbconvert_exporter": "python",
   "pygments_lexer": "ipython3",
   "version": "3.6.5"
  }
 },
 "nbformat": 4,
 "nbformat_minor": 2
}
